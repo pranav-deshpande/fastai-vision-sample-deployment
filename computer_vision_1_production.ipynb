{
 "cells": [
  {
   "cell_type": "code",
   "execution_count": 17,
   "id": "c0c90314",
   "metadata": {},
   "outputs": [],
   "source": [
    "from fastai.vision.all import *\n",
    "from fastai.vision.widgets import *"
   ]
  },
  {
   "cell_type": "code",
   "execution_count": 18,
   "id": "fc5313e9",
   "metadata": {},
   "outputs": [],
   "source": [
    "# Create the functions that the model to be loaded will need\n",
    "def label_func(f: str):\n",
    "    return 'Cat' if f[0].isupper() else 'Dog'\n",
    "\n",
    "# Load the model\n",
    "path = Path()\n",
    "learn = load_learner(path/'export.pkl')"
   ]
  },
  {
   "cell_type": "code",
   "execution_count": 19,
   "id": "7dc36191",
   "metadata": {},
   "outputs": [],
   "source": [
    "# Create the widgets\n",
    "btn_upload = widgets.FileUpload()\n",
    "output = widgets.Output()\n",
    "label = widgets.Label()\n",
    "btn_run = widgets.Button(description='Classify')"
   ]
  },
  {
   "cell_type": "code",
   "execution_count": 20,
   "id": "899b4f64",
   "metadata": {},
   "outputs": [],
   "source": [
    "from io import BytesIO\n",
    "def on_click_classify(change):\n",
    "    img = Image.open(BytesIO(btn_upload.value[-1].content))\n",
    "    img = PILImage.create(np.array(img))\n",
    "    output.clear_output()\n",
    "    with output: display(img.to_thumb(128,128))\n",
    "    pred_label, pred_label_index, pred_probs = learn.predict(img)\n",
    "    label.value = f'Prediction: {pred_label}; Probability: {pred_probs[pred_label_index]:.04f}'\n",
    "\n",
    "btn_run.on_click(on_click_classify)"
   ]
  },
  {
   "cell_type": "markdown",
   "id": "e0ac0f2a",
   "metadata": {},
   "source": [
    "# Cat/Dog Classifier\n",
    "\n",
    "### Upload an image and then click classify!"
   ]
  },
  {
   "cell_type": "code",
   "execution_count": 22,
   "id": "9331c30a",
   "metadata": {},
   "outputs": [
    {
     "data": {
      "application/vnd.jupyter.widget-view+json": {
       "model_id": "e065e8e0bacc460cbae6f726c3dd8326",
       "version_major": 2,
       "version_minor": 0
      },
      "text/plain": [
       "VBox(children=(Label(value='Select your picture (cat/dog)!'), FileUpload(value=(), description='Upload'), Butt…"
      ]
     },
     "execution_count": 22,
     "metadata": {},
     "output_type": "execute_result"
    }
   ],
   "source": [
    "VBox([widgets.Label('Select your picture (cat/dog)!'), btn_upload, btn_run, output, label])"
   ]
  },
  {
   "cell_type": "markdown",
   "id": "d0a865f4",
   "metadata": {},
   "source": [
    "#### Link: https://github.com/pranav-deshpande/fastai-experiments"
   ]
  },
  {
   "cell_type": "code",
   "execution_count": null,
   "id": "8ecd6ace",
   "metadata": {},
   "outputs": [],
   "source": []
  }
 ],
 "metadata": {
  "kernelspec": {
   "display_name": "Python 3 (ipykernel)",
   "language": "python",
   "name": "python3"
  },
  "language_info": {
   "codemirror_mode": {
    "name": "ipython",
    "version": 3
   },
   "file_extension": ".py",
   "mimetype": "text/x-python",
   "name": "python",
   "nbconvert_exporter": "python",
   "pygments_lexer": "ipython3",
   "version": "3.9.16"
  }
 },
 "nbformat": 4,
 "nbformat_minor": 5
}
